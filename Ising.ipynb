{
  "nbformat": 4,
  "nbformat_minor": 0,
  "metadata": {
    "colab": {
      "name": "Ising.ipynb",
      "provenance": [],
      "collapsed_sections": [],
      "authorship_tag": "ABX9TyPGDcmmJ/P9LLPwcqE6l3Xs",
      "include_colab_link": true
    },
    "kernelspec": {
      "name": "python3",
      "display_name": "Python 3"
    }
  },
  "cells": [
    {
      "cell_type": "markdown",
      "metadata": {
        "id": "view-in-github",
        "colab_type": "text"
      },
      "source": [
        "<a href=\"https://colab.research.google.com/github/zhihao-huang-07/Code4Paper_Unsupervised_Learning_of_Non_Hermitian_Topological_Phases/blob/main/Ising.ipynb\" target=\"_parent\"><img src=\"https://colab.research.google.com/assets/colab-badge.svg\" alt=\"Open In Colab\"/></a>"
      ]
    },
    {
      "cell_type": "code",
      "metadata": {
        "id": "yzoTqDxjMgXJ"
      },
      "source": [
        "%matplotlib inline\n",
        "import numpy as np\n",
        "from numpy.random import rand\n",
        "import matplotlib.pyplot as plt"
      ],
      "execution_count": null,
      "outputs": []
    },
    {
      "cell_type": "markdown",
      "metadata": {
        "id": "J_E8Tu8tv20l"
      },
      "source": [
        "初态：N*N的1和-1的矩阵config\n",
        "蒙特卡罗采样，采样次数N*N次，得到一个有效构型\n",
        "计算构型能量和平均磁化强度"
      ]
    },
    {
      "cell_type": "code",
      "metadata": {
        "id": "Z94qZtiVMkbj"
      },
      "source": [
        "def initialstate(N):   \n",
        "    ''' generates a random spin configuration for initial condition'''\n",
        "    state = 2*np.random.randint(2, size=(N,N))-1   #随机自旋构型  2*(01)的矩阵然后所有元素减1\n",
        "    return state\n",
        "\n",
        "\n",
        "def mcmove(config, beta):\n",
        "    '''Monte Carlo move using Metropolis algorithm '''\n",
        "    for i in range(N):      #从0到N\n",
        "        for j in range(N):\n",
        "                a = np.random.randint(0, N)    #0到N中的某个数\n",
        "                b = np.random.randint(0, N)\n",
        "                s =  config[a, b]\n",
        "                nb = config[(a+1)%N,b] + config[a,(b+1)%N] + config[(a-1)%N,b] + config[a,(b-1)%N]\n",
        "                cost = 2*s*nb   #中间自旋与他临近自旋的相互作用\n",
        "                if cost < 0:\n",
        "                    s *= -1    #自旋翻转\n",
        "                elif rand() < np.exp(-cost*beta):  #概率大于0-1随机数，则翻转\n",
        "                    s *= -1\n",
        "                config[a, b] = s\n",
        "    return config\n",
        "\n",
        "\n",
        "def calcEnergy(config):\n",
        "    '''Energy of a given configuration'''\n",
        "    energy = 0\n",
        "    for i in range(len(config)):\n",
        "        for j in range(len(config)):\n",
        "            S = config[i,j]\n",
        "            nb = config[(i+1)%N, j] + config[i,(j+1)%N] + config[(i-1)%N, j] + config[i,(j-1)%N]\n",
        "            energy += -nb*S\n",
        "    return energy/4.\n",
        "\n",
        "\n",
        "def calcMag(config):\n",
        "    '''Magnetization of a given configuration'''   #算磁化强度\n",
        "    mag = np.sum(config)\n",
        "    return mag"
      ],
      "execution_count": null,
      "outputs": []
    },
    {
      "cell_type": "markdown",
      "metadata": {
        "id": "846mMziCwYOW"
      },
      "source": [
        "定义参数数值\n",
        "nt温度格点数\n",
        "N=10,100个格点数，10*10矩阵\n",
        "1024个该温度下的样本构型\n",
        "n1n2求平均值用"
      ]
    },
    {
      "cell_type": "code",
      "metadata": {
        "id": "ON5dfL-rdctv"
      },
      "source": [
        "## change these parameters for a smaller (faster) simulation \n",
        "nt      = 64         #  number of temperature points\n",
        "N       = 10         #  size of the lattice, N x N\n",
        "eqSteps = 10      #  number of MC sweeps for equilibration\n",
        "mcSteps = 10       #  number of MC sweeps for calculation\n",
        "\n",
        "T       = np.linspace(1.53, 3.28, nt); \n",
        "E,M,C,X = np.zeros(nt), np.zeros(nt), np.zeros(nt), np.zeros(nt)  #[0,0,0......]\n",
        "n1, n2  = 1.0/(mcSteps*N*N), 1.0/(mcSteps*mcSteps*N*N) \n",
        "# divide by number of samples, and by system size to get intensive values"
      ],
      "execution_count": null,
      "outputs": []
    },
    {
      "cell_type": "markdown",
      "metadata": {
        "id": "U1aEDHafxPF1"
      },
      "source": [
        "代入数值计算"
      ]
    },
    {
      "cell_type": "code",
      "metadata": {
        "id": "y9k_x3ZefEiO",
        "colab": {
          "base_uri": "https://localhost:8080/"
        },
        "outputId": "60e44e58-8c75-4f58-fe70-d589c89b9c1d"
      },
      "source": [
        "#----------------------------------------------------------------------\n",
        "#  MAIN PART OF THE CODE\n",
        "#----------------------------------------------------------------------\n",
        "for tt in range(nt):   #0-64\n",
        "    E1 = M1 = E2 = M2 = 0\n",
        "   \n",
        "    iT=1.0/T[tt]; iT2=iT*iT;\n",
        "    data = []\n",
        "\n",
        "    for i in range(eqSteps):    \n",
        "        config = initialstate(N)     # equilibrate\n",
        "        config_ = mcmove(config, iT)           # Monte Carlo moves\n",
        "        data.append(config_.reshape((-1)))\n",
        "    data = np.asarray(data)\n",
        "    print(data.shape)\n",
        "\n",
        "    # for i in range(mcSteps):\n",
        "    #     mcmove(config, iT)           \n",
        "    #     Ene = calcEnergy(config)     # calculate the energy\n",
        "    #     Mag = calcMag(config)        # calculate the magnetisation\n",
        "\n",
        "    #     E1 = E1 + Ene\n",
        "    #     M1 = M1 + Mag\n",
        "    #     M2 = M2 + Mag*Mag \n",
        "    #     E2 = E2 + Ene*Ene\n",
        "\n",
        "    # E[tt] = n1*E1   #算平均值\n",
        "    # M[tt] = n1*M1\n",
        "    # C[tt] = (n1*E2 - n2*E1*E1)*iT2\n",
        "    # X[tt] = (n1*M2 - n2*M1*M1)*iT"
      ],
      "execution_count": null,
      "outputs": [
        {
          "output_type": "stream",
          "text": [
            "(10, 100)\n",
            "(10, 100)\n",
            "(10, 100)\n",
            "(10, 100)\n",
            "(10, 100)\n",
            "(10, 100)\n",
            "(10, 100)\n",
            "(10, 100)\n",
            "(10, 100)\n",
            "(10, 100)\n",
            "(10, 100)\n",
            "(10, 100)\n",
            "(10, 100)\n",
            "(10, 100)\n",
            "(10, 100)\n",
            "(10, 100)\n",
            "(10, 100)\n",
            "(10, 100)\n",
            "(10, 100)\n",
            "(10, 100)\n",
            "(10, 100)\n",
            "(10, 100)\n",
            "(10, 100)\n",
            "(10, 100)\n",
            "(10, 100)\n",
            "(10, 100)\n",
            "(10, 100)\n",
            "(10, 100)\n",
            "(10, 100)\n",
            "(10, 100)\n",
            "(10, 100)\n",
            "(10, 100)\n",
            "(10, 100)\n",
            "(10, 100)\n",
            "(10, 100)\n",
            "(10, 100)\n",
            "(10, 100)\n",
            "(10, 100)\n",
            "(10, 100)\n",
            "(10, 100)\n",
            "(10, 100)\n",
            "(10, 100)\n",
            "(10, 100)\n",
            "(10, 100)\n",
            "(10, 100)\n",
            "(10, 100)\n",
            "(10, 100)\n",
            "(10, 100)\n",
            "(10, 100)\n",
            "(10, 100)\n",
            "(10, 100)\n",
            "(10, 100)\n",
            "(10, 100)\n",
            "(10, 100)\n",
            "(10, 100)\n",
            "(10, 100)\n",
            "(10, 100)\n",
            "(10, 100)\n",
            "(10, 100)\n",
            "(10, 100)\n",
            "(10, 100)\n",
            "(10, 100)\n",
            "(10, 100)\n",
            "(10, 100)\n"
          ],
          "name": "stdout"
        }
      ]
    },
    {
      "cell_type": "code",
      "metadata": {
        "colab": {
          "base_uri": "https://localhost:8080/"
        },
        "id": "kiLfG9WP3J6i",
        "outputId": "ca2fdb2a-3e33-4291-e82f-50fcb7dff08f"
      },
      "source": [
        "a = [1]\n",
        "print(a)\n",
        "a.append(1)\n",
        "print(a)"
      ],
      "execution_count": null,
      "outputs": [
        {
          "output_type": "stream",
          "text": [
            "[1]\n",
            "[1, 1]\n"
          ],
          "name": "stdout"
        }
      ]
    },
    {
      "cell_type": "markdown",
      "metadata": {
        "id": "8Ue4yV-8xfBj"
      },
      "source": [
        "图形参数设置"
      ]
    },
    {
      "cell_type": "code",
      "metadata": {
        "id": "TjNHULvXnYOU",
        "colab": {
          "base_uri": "https://localhost:8080/",
          "height": 615
        },
        "outputId": "e624cd06-8caf-4d96-98bb-e29a93f369bf"
      },
      "source": [
        "f = plt.figure(figsize=(18, 10)); # plot the calculated values    图形的宽18高10\n",
        "\n",
        "sp =  f.add_subplot(2, 2, 1 );\n",
        "plt.scatter(T, E, s=50, marker='o', color='IndianRed')\n",
        "plt.xlabel(\"Temperature (T)\", fontsize=20);\n",
        "plt.ylabel(\"Energy \", fontsize=20);         plt.axis('tight');\n",
        "\n",
        "sp =  f.add_subplot(2, 2, 2 );\n",
        "plt.scatter(T, abs(M), s=50, marker='o', color='RoyalBlue')\n",
        "plt.xlabel(\"Temperature (T)\", fontsize=20); \n",
        "plt.ylabel(\"Magnetization \", fontsize=20);   plt.axis('tight');\n",
        "\n",
        "sp =  f.add_subplot(2, 2, 3 );\n",
        "plt.scatter(T, C, s=50, marker='o', color='IndianRed')\n",
        "plt.xlabel(\"Temperature (T)\", fontsize=20);  \n",
        "plt.ylabel(\"Specific Heat \", fontsize=20);   plt.axis('tight');   \n",
        "\n",
        "sp =  f.add_subplot(2, 2, 4 );\n",
        "plt.scatter(T, X, s=50, marker='o', color='RoyalBlue')\n",
        "plt.xlabel(\"Temperature (T)\", fontsize=20); \n",
        "plt.ylabel(\"Susceptibility\", fontsize=20);   plt.axis('tight');"
      ],
      "execution_count": null,
      "outputs": [
        {
          "output_type": "display_data",
          "data": {
            "image/png": "[encoded data removed]",
            "text/plain": [
              "<Figure size 1296x720 with 4 Axes>"
            ]
          },
          "metadata": {
            "tags": [],
            "needs_background": "light"
          }
        }
      ]
    },
    {
      "cell_type": "code",
      "metadata": {
        "id": "Bb-AcgJFz0R1"
      },
      "source": [
        "from sklearn.decomposition import PCA\n",
        "from sklearn.cluster import k_means"
      ],
      "execution_count": null,
      "outputs": []
    },
    {
      "cell_type": "markdown",
      "metadata": {
        "id": "J_BKYp3Hf4A_"
      },
      "source": [
        "对每个构型进行扁平化，然后构成矩阵"
      ]
    },
    {
      "cell_type": "code",
      "metadata": {
        "id": "xLJRDfAGeFmX"
      },
      "source": [
        "for tt in range(nt):   #0-32\n",
        "    E1 = M1 = E2 = M2 = 0\n",
        "    config = initialstate(N)\n",
        "    iT=1.0/T[tt]; iT2=iT*iT;\n",
        "    \n",
        "    for i in range(eqSteps):         # equilibrate\n",
        "        mcmove(config, iT)           # Monte Carlo moves\n",
        "\n",
        "    for i in range(mcSteps):\n",
        "        mcmove(config, iT)           \n",
        "        Ene = calcEnergy(config)     # calculate the energy\n",
        "        Mag = calcMag(config)        # calculate the magnetisation\n",
        "        data = config.reshape(-1,N*N) #扁平化"
      ],
      "execution_count": null,
      "outputs": []
    },
    {
      "cell_type": "code",
      "metadata": {
        "id": "eCswTS1YpRTw"
      },
      "source": [
        "pca = PCA()\n",
        "XPCA = pca.fit_transform(data)"
      ],
      "execution_count": null,
      "outputs": []
    },
    {
      "cell_type": "markdown",
      "metadata": {
        "id": "pXMP0pS_gU3M"
      },
      "source": [
        "卡主了"
      ]
    },
    {
      "cell_type": "code",
      "metadata": {
        "id": "bnHrV4y7gWw-",
        "colab": {
          "base_uri": "https://localhost:8080/"
        },
        "outputId": "264b37bd-b42b-425f-827b-02025c35cdd8"
      },
      "source": [
        "print(XPCA)"
      ],
      "execution_count": null,
      "outputs": [
        {
          "output_type": "stream",
          "text": [
            "[[0.]]\n"
          ],
          "name": "stdout"
        }
      ]
    },
    {
      "cell_type": "code",
      "metadata": {
        "id": "Yt6AQ5XEc8TQ"
      },
      "source": [
        "plt.figure(figsize=[12,6])\n",
        "\n",
        "plt.scatter(XPCA[:,0], XPCA[:,1])\n",
        "\n",
        "plt.colorbar()\n",
        "plt.ylabel('P2')\n",
        "plt.xlabel('P1')\n",
        "\n",
        "plt.show()"
      ],
      "execution_count": null,
      "outputs": []
    },
    {
      "cell_type": "markdown",
      "metadata": {
        "id": "LfzRbYvfU2cp"
      },
      "source": [
        "计算ch"
      ]
    },
    {
      "cell_type": "code",
      "metadata": {
        "id": "YBvopXYRU1Qz"
      },
      "source": [
        "import numpy as np\n",
        "from sklearn.cluster import KMeans\n",
        "kmeans_model = KMeans(n_clusters=2, random_state=1).fit(X)  #分割训练集和测试集，random保证每次分割都一样\n",
        "labels = kmeans_model.labels_\n",
        "metrics.calinski_harabaz_score(X, labels)   #X为1024个同温度下的样本，labels为Kmeans后的两个特征的样本"
      ],
      "execution_count": null,
      "outputs": []
    },
    {
      "cell_type": "markdown",
      "metadata": {
        "id": "04sRrmapU6AP"
      },
      "source": [
        "计算sc"
      ]
    },
    {
      "cell_type": "code",
      "metadata": {
        "id": "-l-2W84xU7YZ"
      },
      "source": [
        "import numpy as np\n",
        "from sklearn.cluster import KMeans\n",
        "kmeans_model = KMeans(n_clusters=3, random_state=1).fit(X)\n",
        "labels = kmeans_model.labels_\n",
        "metrics.silhouette_score(X, labels, metric='euclidean')"
      ],
      "execution_count": null,
      "outputs": []
    }
  ]
}